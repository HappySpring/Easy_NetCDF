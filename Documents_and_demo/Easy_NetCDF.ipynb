version https://git-lfs.github.com/spec/v1
oid sha256:cad550c2de84564d686064cdd99bafaa3e5e868bf9d6928a9c9180d1417a1440
size 603203
